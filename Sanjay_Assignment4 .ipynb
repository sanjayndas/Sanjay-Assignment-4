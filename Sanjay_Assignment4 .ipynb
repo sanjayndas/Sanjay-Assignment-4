{
  "nbformat": 4,
  "nbformat_minor": 0,
  "metadata": {
    "colab": {
      "provenance": [],
      "collapsed_sections": []
    },
    "kernelspec": {
      "name": "python3",
      "display_name": "Python 3"
    },
    "language_info": {
      "name": "python"
    }
  },
  "cells": [
    {
      "cell_type": "code",
      "execution_count": 268,
      "metadata": {
        "id": "gO43_t6dCSEs"
      },
      "outputs": [],
      "source": [
        "import pandas as pd\n",
        "import numpy as np\n",
        "import seaborn as sn\n",
        "import matplotlib.pyplot as plt"
      ]
    },
    {
      "cell_type": "markdown",
      "source": [
        "**Reading the Data**"
      ],
      "metadata": {
        "id": "liTe3EguEXuU"
      }
    },
    {
      "cell_type": "code",
      "source": [
        "data = pd.read_csv('/content/beer-servings.csv')\n",
        "data.head()"
      ],
      "metadata": {
        "colab": {
          "base_uri": "https://localhost:8080/",
          "height": 206
        },
        "id": "qCjrffzNCvlb",
        "outputId": "91903e51-010b-4d58-b95b-f1a6438b8daa"
      },
      "execution_count": 269,
      "outputs": [
        {
          "output_type": "execute_result",
          "data": {
            "text/plain": [
              "   Unnamed: 0      country  beer_servings  spirit_servings  wine_servings  \\\n",
              "0           0  Afghanistan            0.0              0.0            0.0   \n",
              "1           1      Albania           89.0            132.0           54.0   \n",
              "2           2      Algeria           25.0              0.0           14.0   \n",
              "3           3      Andorra          245.0            138.0          312.0   \n",
              "4           4       Angola          217.0             57.0           45.0   \n",
              "\n",
              "   total_litres_of_pure_alcohol continent  \n",
              "0                           0.0      Asia  \n",
              "1                           4.9    Europe  \n",
              "2                           0.7    Africa  \n",
              "3                          12.4    Europe  \n",
              "4                           5.9    Africa  "
            ],
            "text/html": [
              "\n",
              "  <div id=\"df-2a4b368c-4e00-40df-bcab-c09828481962\">\n",
              "    <div class=\"colab-df-container\">\n",
              "      <div>\n",
              "<style scoped>\n",
              "    .dataframe tbody tr th:only-of-type {\n",
              "        vertical-align: middle;\n",
              "    }\n",
              "\n",
              "    .dataframe tbody tr th {\n",
              "        vertical-align: top;\n",
              "    }\n",
              "\n",
              "    .dataframe thead th {\n",
              "        text-align: right;\n",
              "    }\n",
              "</style>\n",
              "<table border=\"1\" class=\"dataframe\">\n",
              "  <thead>\n",
              "    <tr style=\"text-align: right;\">\n",
              "      <th></th>\n",
              "      <th>Unnamed: 0</th>\n",
              "      <th>country</th>\n",
              "      <th>beer_servings</th>\n",
              "      <th>spirit_servings</th>\n",
              "      <th>wine_servings</th>\n",
              "      <th>total_litres_of_pure_alcohol</th>\n",
              "      <th>continent</th>\n",
              "    </tr>\n",
              "  </thead>\n",
              "  <tbody>\n",
              "    <tr>\n",
              "      <th>0</th>\n",
              "      <td>0</td>\n",
              "      <td>Afghanistan</td>\n",
              "      <td>0.0</td>\n",
              "      <td>0.0</td>\n",
              "      <td>0.0</td>\n",
              "      <td>0.0</td>\n",
              "      <td>Asia</td>\n",
              "    </tr>\n",
              "    <tr>\n",
              "      <th>1</th>\n",
              "      <td>1</td>\n",
              "      <td>Albania</td>\n",
              "      <td>89.0</td>\n",
              "      <td>132.0</td>\n",
              "      <td>54.0</td>\n",
              "      <td>4.9</td>\n",
              "      <td>Europe</td>\n",
              "    </tr>\n",
              "    <tr>\n",
              "      <th>2</th>\n",
              "      <td>2</td>\n",
              "      <td>Algeria</td>\n",
              "      <td>25.0</td>\n",
              "      <td>0.0</td>\n",
              "      <td>14.0</td>\n",
              "      <td>0.7</td>\n",
              "      <td>Africa</td>\n",
              "    </tr>\n",
              "    <tr>\n",
              "      <th>3</th>\n",
              "      <td>3</td>\n",
              "      <td>Andorra</td>\n",
              "      <td>245.0</td>\n",
              "      <td>138.0</td>\n",
              "      <td>312.0</td>\n",
              "      <td>12.4</td>\n",
              "      <td>Europe</td>\n",
              "    </tr>\n",
              "    <tr>\n",
              "      <th>4</th>\n",
              "      <td>4</td>\n",
              "      <td>Angola</td>\n",
              "      <td>217.0</td>\n",
              "      <td>57.0</td>\n",
              "      <td>45.0</td>\n",
              "      <td>5.9</td>\n",
              "      <td>Africa</td>\n",
              "    </tr>\n",
              "  </tbody>\n",
              "</table>\n",
              "</div>\n",
              "      <button class=\"colab-df-convert\" onclick=\"convertToInteractive('df-2a4b368c-4e00-40df-bcab-c09828481962')\"\n",
              "              title=\"Convert this dataframe to an interactive table.\"\n",
              "              style=\"display:none;\">\n",
              "        \n",
              "  <svg xmlns=\"http://www.w3.org/2000/svg\" height=\"24px\"viewBox=\"0 0 24 24\"\n",
              "       width=\"24px\">\n",
              "    <path d=\"M0 0h24v24H0V0z\" fill=\"none\"/>\n",
              "    <path d=\"M18.56 5.44l.94 2.06.94-2.06 2.06-.94-2.06-.94-.94-2.06-.94 2.06-2.06.94zm-11 1L8.5 8.5l.94-2.06 2.06-.94-2.06-.94L8.5 2.5l-.94 2.06-2.06.94zm10 10l.94 2.06.94-2.06 2.06-.94-2.06-.94-.94-2.06-.94 2.06-2.06.94z\"/><path d=\"M17.41 7.96l-1.37-1.37c-.4-.4-.92-.59-1.43-.59-.52 0-1.04.2-1.43.59L10.3 9.45l-7.72 7.72c-.78.78-.78 2.05 0 2.83L4 21.41c.39.39.9.59 1.41.59.51 0 1.02-.2 1.41-.59l7.78-7.78 2.81-2.81c.8-.78.8-2.07 0-2.86zM5.41 20L4 18.59l7.72-7.72 1.47 1.35L5.41 20z\"/>\n",
              "  </svg>\n",
              "      </button>\n",
              "      \n",
              "  <style>\n",
              "    .colab-df-container {\n",
              "      display:flex;\n",
              "      flex-wrap:wrap;\n",
              "      gap: 12px;\n",
              "    }\n",
              "\n",
              "    .colab-df-convert {\n",
              "      background-color: #E8F0FE;\n",
              "      border: none;\n",
              "      border-radius: 50%;\n",
              "      cursor: pointer;\n",
              "      display: none;\n",
              "      fill: #1967D2;\n",
              "      height: 32px;\n",
              "      padding: 0 0 0 0;\n",
              "      width: 32px;\n",
              "    }\n",
              "\n",
              "    .colab-df-convert:hover {\n",
              "      background-color: #E2EBFA;\n",
              "      box-shadow: 0px 1px 2px rgba(60, 64, 67, 0.3), 0px 1px 3px 1px rgba(60, 64, 67, 0.15);\n",
              "      fill: #174EA6;\n",
              "    }\n",
              "\n",
              "    [theme=dark] .colab-df-convert {\n",
              "      background-color: #3B4455;\n",
              "      fill: #D2E3FC;\n",
              "    }\n",
              "\n",
              "    [theme=dark] .colab-df-convert:hover {\n",
              "      background-color: #434B5C;\n",
              "      box-shadow: 0px 1px 3px 1px rgba(0, 0, 0, 0.15);\n",
              "      filter: drop-shadow(0px 1px 2px rgba(0, 0, 0, 0.3));\n",
              "      fill: #FFFFFF;\n",
              "    }\n",
              "  </style>\n",
              "\n",
              "      <script>\n",
              "        const buttonEl =\n",
              "          document.querySelector('#df-2a4b368c-4e00-40df-bcab-c09828481962 button.colab-df-convert');\n",
              "        buttonEl.style.display =\n",
              "          google.colab.kernel.accessAllowed ? 'block' : 'none';\n",
              "\n",
              "        async function convertToInteractive(key) {\n",
              "          const element = document.querySelector('#df-2a4b368c-4e00-40df-bcab-c09828481962');\n",
              "          const dataTable =\n",
              "            await google.colab.kernel.invokeFunction('convertToInteractive',\n",
              "                                                     [key], {});\n",
              "          if (!dataTable) return;\n",
              "\n",
              "          const docLinkHtml = 'Like what you see? Visit the ' +\n",
              "            '<a target=\"_blank\" href=https://colab.research.google.com/notebooks/data_table.ipynb>data table notebook</a>'\n",
              "            + ' to learn more about interactive tables.';\n",
              "          element.innerHTML = '';\n",
              "          dataTable['output_type'] = 'display_data';\n",
              "          await google.colab.output.renderOutput(dataTable, element);\n",
              "          const docLink = document.createElement('div');\n",
              "          docLink.innerHTML = docLinkHtml;\n",
              "          element.appendChild(docLink);\n",
              "        }\n",
              "      </script>\n",
              "    </div>\n",
              "  </div>\n",
              "  "
            ]
          },
          "metadata": {},
          "execution_count": 269
        }
      ]
    },
    {
      "cell_type": "markdown",
      "source": [
        "**Removing Null Data**"
      ],
      "metadata": {
        "id": "6Izmx9lfEtUa"
      }
    },
    {
      "cell_type": "code",
      "source": [
        "data['beer_servings'] = data['beer_servings'].fillna(data['beer_servings'].median())\n",
        "data['beer_servings'].isna().sum()"
      ],
      "metadata": {
        "colab": {
          "base_uri": "https://localhost:8080/"
        },
        "id": "eYdVtyMYD7t6",
        "outputId": "98dadd5e-21a4-4ce5-f608-3998b76534cb"
      },
      "execution_count": 270,
      "outputs": [
        {
          "output_type": "execute_result",
          "data": {
            "text/plain": [
              "0"
            ]
          },
          "metadata": {},
          "execution_count": 270
        }
      ]
    },
    {
      "cell_type": "code",
      "source": [
        "for i in ['spirit_servings', 'wine_servings','total_litres_of_pure_alcohol']:\n",
        "  data[i] = data[i].fillna(data[i].median())"
      ],
      "metadata": {
        "id": "ufsgI0FRD81m"
      },
      "execution_count": 271,
      "outputs": []
    },
    {
      "cell_type": "code",
      "source": [
        "data.isnull().sum()"
      ],
      "metadata": {
        "colab": {
          "base_uri": "https://localhost:8080/"
        },
        "id": "-SpmPkThEEAP",
        "outputId": "0b755716-19df-44fc-d013-3dcc19eead7a"
      },
      "execution_count": 272,
      "outputs": [
        {
          "output_type": "execute_result",
          "data": {
            "text/plain": [
              "Unnamed: 0                      0\n",
              "country                         0\n",
              "beer_servings                   0\n",
              "spirit_servings                 0\n",
              "wine_servings                   0\n",
              "total_litres_of_pure_alcohol    0\n",
              "continent                       0\n",
              "dtype: int64"
            ]
          },
          "metadata": {},
          "execution_count": 272
        }
      ]
    },
    {
      "cell_type": "markdown",
      "source": [
        "**Finding Outliers**"
      ],
      "metadata": {
        "id": "kZrg0Xs-Eyx7"
      }
    },
    {
      "cell_type": "markdown",
      "source": [
        "1. Beer Servings"
      ],
      "metadata": {
        "id": "3FI0w_mELYRz"
      }
    },
    {
      "cell_type": "code",
      "source": [
        "Q1_b = np.percentile(data['beer_servings'],25, interpolation='midpoint')\n",
        "Q2_b = np.percentile(data['beer_servings'],50, interpolation='midpoint')\n",
        "Q3_b = np.percentile(data['beer_servings'],75, interpolation='midpoint')"
      ],
      "metadata": {
        "id": "NDgSPmYXKUNH"
      },
      "execution_count": 273,
      "outputs": []
    },
    {
      "cell_type": "code",
      "source": [
        "IQR_b  = Q3_b - Q1_b\n",
        "print(IQR_b)"
      ],
      "metadata": {
        "colab": {
          "base_uri": "https://localhost:8080/"
        },
        "id": "FY8xU_VUKmhh",
        "outputId": "f33b57c8-988f-49ae-b992-c8d6346a70b1"
      },
      "execution_count": 274,
      "outputs": [
        {
          "output_type": "stream",
          "name": "stdout",
          "text": [
            "150.0\n"
          ]
        }
      ]
    },
    {
      "cell_type": "code",
      "source": [
        "low_lim_b = Q1_b-1.5*IQR_b\n",
        "up_lim_b = Q3_b+1.5*IQR_b"
      ],
      "metadata": {
        "id": "gTWMi08JKsoC"
      },
      "execution_count": 275,
      "outputs": []
    },
    {
      "cell_type": "code",
      "source": [
        "print(low_lim_b)\n",
        "print(up_lim_b)"
      ],
      "metadata": {
        "colab": {
          "base_uri": "https://localhost:8080/"
        },
        "id": "iAso4WLcK1bH",
        "outputId": "87e7f6b9-f4e3-4327-9b33-902f5af44d40"
      },
      "execution_count": 276,
      "outputs": [
        {
          "output_type": "stream",
          "name": "stdout",
          "text": [
            "-204.0\n",
            "396.0\n"
          ]
        }
      ]
    },
    {
      "cell_type": "code",
      "source": [
        "outlier_b = []\n",
        "for x in data['beer_servings']:\n",
        "  if((x>up_lim_b) or (x<low_lim_b)):\n",
        "    outlier_b.append(x)"
      ],
      "metadata": {
        "id": "F-Wf4f1VK7ck"
      },
      "execution_count": 277,
      "outputs": []
    },
    {
      "cell_type": "code",
      "source": [
        "print('Outliers in beer servings data are:')\n",
        "outlier_b"
      ],
      "metadata": {
        "colab": {
          "base_uri": "https://localhost:8080/"
        },
        "id": "CeiOPO4nLHpG",
        "outputId": "9b106f9a-2831-4801-d59e-6d523411db82"
      },
      "execution_count": 278,
      "outputs": [
        {
          "output_type": "stream",
          "name": "stdout",
          "text": [
            "Outliers in beer servings data are:\n"
          ]
        },
        {
          "output_type": "execute_result",
          "data": {
            "text/plain": [
              "[]"
            ]
          },
          "metadata": {},
          "execution_count": 278
        }
      ]
    },
    {
      "cell_type": "markdown",
      "source": [
        "2. Spirit Servings"
      ],
      "metadata": {
        "id": "uGf7YjOyGyP0"
      }
    },
    {
      "cell_type": "code",
      "source": [
        "Q1 = np.percentile(data['spirit_servings'],25, interpolation='midpoint')\n",
        "Q2 = np.percentile(data['spirit_servings'],50, interpolation='midpoint')\n",
        "Q3 = np.percentile(data['spirit_servings'],75, interpolation='midpoint')"
      ],
      "metadata": {
        "id": "foAcZnjQDA8y"
      },
      "execution_count": 279,
      "outputs": []
    },
    {
      "cell_type": "code",
      "source": [
        "IQR  = Q3 - Q1\n",
        "print(IQR)"
      ],
      "metadata": {
        "colab": {
          "base_uri": "https://localhost:8080/"
        },
        "id": "ZgRugjk1DMjm",
        "outputId": "090ca3b5-f53c-4d9e-eacf-3aa21418b36d"
      },
      "execution_count": 280,
      "outputs": [
        {
          "output_type": "stream",
          "name": "stdout",
          "text": [
            "123.0\n"
          ]
        }
      ]
    },
    {
      "cell_type": "code",
      "source": [
        "low_lim = Q1-1.5*IQR\n",
        "up_lim = Q3+1.5*IQR\n"
      ],
      "metadata": {
        "id": "ACvnAB5DDPWw"
      },
      "execution_count": 281,
      "outputs": []
    },
    {
      "cell_type": "code",
      "source": [
        "print(low_lim)\n",
        "print(up_lim)"
      ],
      "metadata": {
        "colab": {
          "base_uri": "https://localhost:8080/"
        },
        "id": "2E0Q0mQjDS7p",
        "outputId": "76ecf4e6-4f3b-4723-cf42-6eeca8e1152d"
      },
      "execution_count": 282,
      "outputs": [
        {
          "output_type": "stream",
          "name": "stdout",
          "text": [
            "-179.5\n",
            "312.5\n"
          ]
        }
      ]
    },
    {
      "cell_type": "code",
      "source": [
        "outlier = []\n",
        "for x in data['spirit_servings']:\n",
        "  if((x>up_lim) or (x<low_lim)):\n",
        "    outlier.append(x)"
      ],
      "metadata": {
        "id": "u2sbnowiDVmQ"
      },
      "execution_count": 283,
      "outputs": []
    },
    {
      "cell_type": "code",
      "source": [
        "print('Outliers in spirit servings data are:')\n",
        "outlier"
      ],
      "metadata": {
        "colab": {
          "base_uri": "https://localhost:8080/"
        },
        "id": "RtOJT-T_Dbrg",
        "outputId": "30c7f78d-446b-4eeb-dfdb-7e8b2f901259"
      },
      "execution_count": 284,
      "outputs": [
        {
          "output_type": "stream",
          "name": "stdout",
          "text": [
            "Outliers in spirit servings data are:\n"
          ]
        },
        {
          "output_type": "execute_result",
          "data": {
            "text/plain": [
              "[373.0, 438.0, 326.0, 326.0, 315.0]"
            ]
          },
          "metadata": {},
          "execution_count": 284
        }
      ]
    },
    {
      "cell_type": "markdown",
      "source": [
        "3. Wine Servings"
      ],
      "metadata": {
        "id": "3fEfgPSVFVPj"
      }
    },
    {
      "cell_type": "code",
      "source": [
        "Q1_w = np.percentile(data['wine_servings'],25, interpolation='midpoint')\n",
        "Q2_w = np.percentile(data['wine_servings'],50, interpolation='midpoint')\n",
        "Q3_w = np.percentile(data['wine_servings'],75, interpolation='midpoint')"
      ],
      "metadata": {
        "id": "wEIXvcTWFTlh"
      },
      "execution_count": 285,
      "outputs": []
    },
    {
      "cell_type": "code",
      "source": [
        "IQR_w  = Q3_w - Q1_w\n",
        "print(IQR_w)"
      ],
      "metadata": {
        "colab": {
          "base_uri": "https://localhost:8080/"
        },
        "id": "TxzhyCxiFl6o",
        "outputId": "5ea638f3-e0db-487e-a87f-137dab68247c"
      },
      "execution_count": 286,
      "outputs": [
        {
          "output_type": "stream",
          "name": "stdout",
          "text": [
            "58.0\n"
          ]
        }
      ]
    },
    {
      "cell_type": "code",
      "source": [
        "low_lim_w = Q1_w-1.5*IQR_w\n",
        "up_lim_w = Q3_w+1.5*IQR_w\n"
      ],
      "metadata": {
        "id": "22t4-hYZFpN-"
      },
      "execution_count": 287,
      "outputs": []
    },
    {
      "cell_type": "code",
      "source": [
        "print(low_lim_w)\n",
        "print(up_lim_w)"
      ],
      "metadata": {
        "colab": {
          "base_uri": "https://localhost:8080/"
        },
        "id": "-Ix3GOCkFsaA",
        "outputId": "791a3968-a77a-477e-b9ac-2ea64897c762"
      },
      "execution_count": 288,
      "outputs": [
        {
          "output_type": "stream",
          "name": "stdout",
          "text": [
            "-86.0\n",
            "146.0\n"
          ]
        }
      ]
    },
    {
      "cell_type": "code",
      "source": [
        "outlier_w = []\n",
        "for x in data['wine_servings']:\n",
        "  if((x>up_lim_w) or (x<low_lim_w)):\n",
        "    outlier_w.append(x)"
      ],
      "metadata": {
        "id": "1P8N7GPLFvbv"
      },
      "execution_count": 289,
      "outputs": []
    },
    {
      "cell_type": "code",
      "source": [
        "print('Outliers in wine servings data are:')\n",
        "outlier_w"
      ],
      "metadata": {
        "colab": {
          "base_uri": "https://localhost:8080/"
        },
        "id": "bEsUQCGSFzRZ",
        "outputId": "39b855d8-9c51-41b2-c341-0b926da27984"
      },
      "execution_count": 290,
      "outputs": [
        {
          "output_type": "stream",
          "name": "stdout",
          "text": [
            "Outliers in wine servings data are:\n"
          ]
        },
        {
          "output_type": "execute_result",
          "data": {
            "text/plain": [
              "[312.0,\n",
              " 221.0,\n",
              " 212.0,\n",
              " 191.0,\n",
              " 212.0,\n",
              " 172.0,\n",
              " 254.0,\n",
              " 278.0,\n",
              " 233.0,\n",
              " 370.0,\n",
              " 149.0,\n",
              " 175.0,\n",
              " 218.0,\n",
              " 185.0,\n",
              " 165.0,\n",
              " 237.0,\n",
              " 271.0,\n",
              " 190.0,\n",
              " 175.0,\n",
              " 339.0,\n",
              " 167.0,\n",
              " 276.0,\n",
              " 186.0,\n",
              " 280.0,\n",
              " 195.0,\n",
              " 220.0]"
            ]
          },
          "metadata": {},
          "execution_count": 290
        }
      ]
    },
    {
      "cell_type": "markdown",
      "source": [
        "4. Total litres of pure alcohol"
      ],
      "metadata": {
        "id": "67e-TpKhGjac"
      }
    },
    {
      "cell_type": "code",
      "source": [
        "Q1_t = np.percentile(data['total_litres_of_pure_alcohol'],25, interpolation='midpoint')\n",
        "Q2_t = np.percentile(data['total_litres_of_pure_alcohol'],50, interpolation='midpoint')\n",
        "Q3_t = np.percentile(data['total_litres_of_pure_alcohol'],75, interpolation='midpoint')"
      ],
      "metadata": {
        "id": "TTdEY285GiXG"
      },
      "execution_count": 291,
      "outputs": []
    },
    {
      "cell_type": "code",
      "source": [
        "IQR_t  = Q3_t - Q1_t\n",
        "print(IQR_t)"
      ],
      "metadata": {
        "colab": {
          "base_uri": "https://localhost:8080/"
        },
        "id": "Xnxn9g32G86i",
        "outputId": "5d0933a9-55ee-4362-8a32-d0efd98b9dde"
      },
      "execution_count": 292,
      "outputs": [
        {
          "output_type": "stream",
          "name": "stdout",
          "text": [
            "5.9\n"
          ]
        }
      ]
    },
    {
      "cell_type": "code",
      "source": [
        "low_lim_t = Q1_t-1.5*IQR_t\n",
        "up_lim_t = Q3_t+1.5*IQR_t"
      ],
      "metadata": {
        "id": "E1fhyyeIG_01"
      },
      "execution_count": 293,
      "outputs": []
    },
    {
      "cell_type": "code",
      "source": [
        "print(low_lim_t)\n",
        "print(up_lim_t)"
      ],
      "metadata": {
        "colab": {
          "base_uri": "https://localhost:8080/"
        },
        "id": "uuspKJPzHDSz",
        "outputId": "d4dc5756-eb63-4c8c-9345-d8416133ebbd"
      },
      "execution_count": 294,
      "outputs": [
        {
          "output_type": "stream",
          "name": "stdout",
          "text": [
            "-7.550000000000002\n",
            "16.05\n"
          ]
        }
      ]
    },
    {
      "cell_type": "code",
      "source": [
        "outlier_t = []\n",
        "for x in data['total_litres_of_pure_alcohol']:\n",
        "  if((x>up_lim_t) or (x<low_lim_t)):\n",
        "    outlier_t.append(x)"
      ],
      "metadata": {
        "id": "9qrkmsQKHG3j"
      },
      "execution_count": 295,
      "outputs": []
    },
    {
      "cell_type": "code",
      "source": [
        "print('Outliers in total litres of pure alcohol data are:')\n",
        "outlier_t"
      ],
      "metadata": {
        "colab": {
          "base_uri": "https://localhost:8080/"
        },
        "id": "tOuxwKj8HKZP",
        "outputId": "c5ad9bd8-b5f5-47f2-e038-5a4295c298e8"
      },
      "execution_count": 296,
      "outputs": [
        {
          "output_type": "stream",
          "name": "stdout",
          "text": [
            "Outliers in total litres of pure alcohol data are:\n"
          ]
        },
        {
          "output_type": "execute_result",
          "data": {
            "text/plain": [
              "[]"
            ]
          },
          "metadata": {},
          "execution_count": 296
        }
      ]
    }
  ]
}